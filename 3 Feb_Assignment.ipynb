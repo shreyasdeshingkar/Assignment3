{
 "cells": [
  {
   "cell_type": "markdown",
   "id": "1ee115e0-5418-4469-889a-0b3f29755fe6",
   "metadata": {},
   "source": [
    "Que 1) Ans=>\n",
    "The keyword used to create a function in Python is \"def\".\n",
    "\n",
    "Here is an example of a function that returns a list of odd numbers in the range of 1 to 25:"
   ]
  },
  {
   "cell_type": "code",
   "execution_count": 1,
   "id": "cee4f9a2-efc5-422a-9bd7-c0047469879b",
   "metadata": {},
   "outputs": [
    {
     "name": "stdout",
     "output_type": "stream",
     "text": [
      "[1, 3, 5, 7, 9, 11, 13, 15, 17, 19, 21, 23, 25]\n"
     ]
    }
   ],
   "source": [
    "def odd_numbers():\n",
    "    odds = [x for x in range(1, 26) if x % 2 != 0]\n",
    "    return odds\n",
    "\n",
    "print(odd_numbers())\n"
   ]
  },
  {
   "cell_type": "markdown",
   "id": "31faca36-bc86-41ed-aeb8-afb7a3f84e32",
   "metadata": {},
   "source": [
    "Que 2) Ans=>\n",
    "\n",
    "*args and **kwargs are used in functions to pass a variable number of arguments to the function.\n",
    "\n",
    "*args is used to send a non-keyworded variable length argument list to the function. For example:"
   ]
  },
  {
   "cell_type": "code",
   "execution_count": 2,
   "id": "0243b52a-87c2-4247-a50e-c2986754b979",
   "metadata": {},
   "outputs": [
    {
     "name": "stdout",
     "output_type": "stream",
     "text": [
      "1\n",
      "2\n",
      "3\n",
      "4\n"
     ]
    }
   ],
   "source": [
    "def print_args(*args):\n",
    "    for arg in args:\n",
    "        print(arg)\n",
    "\n",
    "print_args(1, 2, 3, 4)\n"
   ]
  },
  {
   "cell_type": "markdown",
   "id": "cc379a7e-f268-4ba2-8555-17960b12494d",
   "metadata": {},
   "source": [
    "**kwargs allows you to pass keyworded variable length of arguments to a function. For example:"
   ]
  },
  {
   "cell_type": "code",
   "execution_count": 3,
   "id": "a706ab1b-3f5b-487e-9340-1757e146c7da",
   "metadata": {},
   "outputs": [
    {
     "name": "stdout",
     "output_type": "stream",
     "text": [
      "name: John\n",
      "age: 28\n"
     ]
    }
   ],
   "source": [
    "def print_kwargs(**kwargs):\n",
    "    for key, value in kwargs.items():\n",
    "        print(f\"{key}: {value}\")\n",
    "\n",
    "print_kwargs(name=\"John\", age=28)\n"
   ]
  },
  {
   "cell_type": "markdown",
   "id": "be68bb65-bab1-47d9-92b6-b8595bdb3dd5",
   "metadata": {},
   "source": [
    "Que 3)Ans=>\n",
    "An iterator in Python is an object that can be iterated (looped) upon. An object which will return data, one element at a time.\n",
    "\n",
    "To create an iterator object, the iter() method is used. To iterate over the elements of an iterator, the next() method is used.\n",
    "\n",
    "Here's an example of how to print the first five elements of the list [2, 4, 6, 8, 10, 12, 14, 16, 18, 20]:"
   ]
  },
  {
   "cell_type": "code",
   "execution_count": 1,
   "id": "37f25514-a556-44c1-8824-5e4be60d0cdf",
   "metadata": {},
   "outputs": [
    {
     "name": "stdout",
     "output_type": "stream",
     "text": [
      "2\n",
      "4\n",
      "6\n",
      "8\n",
      "10\n"
     ]
    }
   ],
   "source": [
    "numbers = [2, 4, 6, 8, 10, 12, 14, 16, 18, 20]\n",
    "\n",
    "# Initialize the iterator object\n",
    "iterator = iter(numbers)\n",
    "\n",
    "# Iterate over the first five elements\n",
    "for i in range(5):\n",
    "    print(next(iterator))\n"
   ]
  },
  {
   "cell_type": "markdown",
   "id": "0bdce1a2-1ba2-4401-9169-0b109ff4d3dc",
   "metadata": {},
   "source": [
    "Que 4)Ans=>\n",
    "\n",
    "A generator function in Python is a function that returns a generator iterator, which is an object that produces a sequence of values using the yield keyword. A generator function doesn't store all values in memory, instead, it yields the values one at a time, which makes it more memory-efficient compared to regular functions that return a list.\n",
    "\n",
    "The yield keyword is used in generator functions to return a value and pause the function's execution, preserving its state. The next time the generator is called, it resumes from where it left off, rather than starting from the beginning.\n",
    "\n",
    "Here's an example of a generator function that yields the Fibonacci sequence:"
   ]
  },
  {
   "cell_type": "code",
   "execution_count": 1,
   "id": "c0f5d189-4edb-4c74-9ede-6af1dce96ad1",
   "metadata": {},
   "outputs": [
    {
     "name": "stdout",
     "output_type": "stream",
     "text": [
      "0\n",
      "1\n",
      "1\n",
      "2\n",
      "3\n",
      "5\n",
      "8\n",
      "13\n",
      "21\n",
      "34\n"
     ]
    }
   ],
   "source": [
    "def fibonacci_sequence(n):\n",
    "    a, b = 0, 1\n",
    "    for i in range(n):\n",
    "        yield a\n",
    "        a, b = b, a + b\n",
    "\n",
    "\n",
    "fib_gen = fibonacci_sequence(10)\n",
    "\n",
    "\n",
    "for num in fib_gen:\n",
    "    print(num)\n"
   ]
  },
  {
   "cell_type": "markdown",
   "id": "bf0449a2-03fe-4dd2-9703-d4c82537d48b",
   "metadata": {},
   "source": [
    "Que 5)ans=>"
   ]
  },
  {
   "cell_type": "code",
   "execution_count": 2,
   "id": "6ee12c57-a5dc-4df5-b390-cc74ec468e39",
   "metadata": {},
   "outputs": [
    {
     "name": "stdout",
     "output_type": "stream",
     "text": [
      "2\n",
      "3\n",
      "5\n",
      "7\n",
      "11\n",
      "13\n",
      "17\n",
      "19\n",
      "23\n",
      "29\n",
      "31\n",
      "37\n",
      "41\n",
      "43\n",
      "47\n",
      "53\n",
      "59\n",
      "61\n",
      "67\n",
      "71\n"
     ]
    }
   ],
   "source": [
    "def prime_numbers():\n",
    "    primes = [2]\n",
    "    yield 2\n",
    "    for num in range(3, 1000):\n",
    "        for prime in primes:\n",
    "            if num % prime == 0:\n",
    "                break\n",
    "        else:\n",
    "            primes.append(num)\n",
    "            yield num\n",
    "\n",
    "\n",
    "prime_gen = prime_numbers()\n",
    "\n",
    "\n",
    "for i in range(20):\n",
    "    print(next(prime_gen))\n"
   ]
  },
  {
   "cell_type": "markdown",
   "id": "b42744be-4a8e-4f51-8432-d2df3e4d938d",
   "metadata": {},
   "source": [
    "Que 6)Ans=>"
   ]
  },
  {
   "cell_type": "code",
   "execution_count": 4,
   "id": "5cee68b9-991b-4711-8789-2d49f08ab659",
   "metadata": {},
   "outputs": [
    {
     "name": "stdout",
     "output_type": "stream",
     "text": [
      "0\n",
      "1\n",
      "1\n",
      "2\n",
      "3\n",
      "5\n",
      "8\n",
      "13\n",
      "21\n",
      "34\n"
     ]
    }
   ],
   "source": [
    "a, b = 0, 1\n",
    "i = 0\n",
    "\n",
    "while i < 10:\n",
    "    print(a)\n",
    "    a, b = b, a + b\n",
    "    i += 1\n"
   ]
  },
  {
   "cell_type": "markdown",
   "id": "c0480610-20ec-49a5-b574-079fc18f7cf9",
   "metadata": {},
   "source": [
    "Que 7)Ans=>"
   ]
  },
  {
   "cell_type": "code",
   "execution_count": 5,
   "id": "5026db8f-236f-4a3c-8172-9c0e488277dd",
   "metadata": {},
   "outputs": [
    {
     "name": "stdout",
     "output_type": "stream",
     "text": [
      "['p', 'w', 's', 'k', 'i', 'l', 'l', 's']\n"
     ]
    }
   ],
   "source": [
    "string = 'pwskills'\n",
    "letters = [char for char in string]\n",
    "print(letters)\n"
   ]
  },
  {
   "cell_type": "markdown",
   "id": "ab649896-f19f-4e8d-bc04-95bad498a01c",
   "metadata": {},
   "source": [
    "Que 8)Ans=>"
   ]
  },
  {
   "cell_type": "code",
   "execution_count": 11,
   "id": "76454ac4-05da-4bf1-b9d1-1bdeb617647e",
   "metadata": {},
   "outputs": [
    {
     "data": {
      "text/plain": [
       "True"
      ]
     },
     "execution_count": 11,
     "metadata": {},
     "output_type": "execute_result"
    }
   ],
   "source": [
    "def is_palindrome(number):\n",
    "    original_number = number\n",
    "    reverse = 0\n",
    "    while number != 0:\n",
    "        last_digit = number % 10\n",
    "        reverse = reverse * 10 + last_digit\n",
    "        number = number // 10\n",
    "    return original_number == reverse\n",
    "is_palindrome(121)"
   ]
  },
  {
   "cell_type": "markdown",
   "id": "ac38eeb3-07bf-45c0-a014-cf9fbdb7493f",
   "metadata": {},
   "source": [
    "Que 9)Ans=>"
   ]
  },
  {
   "cell_type": "code",
   "execution_count": 12,
   "id": "0c607c5e-6ded-48da-a572-0e63b0aa741b",
   "metadata": {},
   "outputs": [
    {
     "name": "stdout",
     "output_type": "stream",
     "text": [
      "[1, 3, 5, 7, 9, 11, 13, 15, 17, 19, 21, 23, 25, 27, 29, 31, 33, 35, 37, 39, 41, 43, 45, 47, 49, 51, 53, 55, 57, 59, 61, 63, 65, 67, 69, 71, 73, 75, 77, 79, 81, 83, 85, 87, 89, 91, 93, 95, 97, 99]\n"
     ]
    }
   ],
   "source": [
    "odd_numbers = [x for x in range(1, 101) if x % 2 != 0]\n",
    "print(odd_numbers)\n"
   ]
  },
  {
   "cell_type": "code",
   "execution_count": null,
   "id": "95471755-c234-420f-ab2c-0f8e41ace806",
   "metadata": {},
   "outputs": [],
   "source": []
  }
 ],
 "metadata": {
  "kernelspec": {
   "display_name": "Python 3 (ipykernel)",
   "language": "python",
   "name": "python3"
  },
  "language_info": {
   "codemirror_mode": {
    "name": "ipython",
    "version": 3
   },
   "file_extension": ".py",
   "mimetype": "text/x-python",
   "name": "python",
   "nbconvert_exporter": "python",
   "pygments_lexer": "ipython3",
   "version": "3.10.8"
  }
 },
 "nbformat": 4,
 "nbformat_minor": 5
}
